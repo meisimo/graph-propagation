{
 "cells": [
  {
   "cell_type": "code",
   "execution_count": 1,
   "metadata": {},
   "outputs": [
    {
     "name": "stdout",
     "output_type": "stream",
     "text": [
      "4\n",
      "PlotNodesBoxPlot\n",
      "<src.result_processing.Results object at 0x7ff1244af8e0>\n",
      "ABCMeta\n",
      "<src.result_processing.Results object at 0x7ff1244af8e0>\n"
     ]
    },
    {
     "ename": "TypeError",
     "evalue": "_output() missing 1 required positional argument: 'results'",
     "output_type": "error",
     "traceback": [
      "\u001b[0;31m---------------------------------------------------------------------------\u001b[0m",
      "\u001b[0;31mTypeError\u001b[0m                                 Traceback (most recent call last)",
      "\u001b[0;32m/tmp/ipykernel_3904/680395503.py\u001b[0m in \u001b[0;36m<module>\u001b[0;34m\u001b[0m\n\u001b[1;32m     17\u001b[0m \u001b[0;34m\u001b[0m\u001b[0m\n\u001b[1;32m     18\u001b[0m \u001b[0mprint\u001b[0m\u001b[0;34m(\u001b[0m\u001b[0msteps\u001b[0m\u001b[0;34m)\u001b[0m\u001b[0;34m\u001b[0m\u001b[0;34m\u001b[0m\u001b[0m\n\u001b[0;32m---> 19\u001b[0;31m \u001b[0mprint\u001b[0m\u001b[0;34m(\u001b[0m\u001b[0mproc\u001b[0m\u001b[0;34m.\u001b[0m\u001b[0moutput\u001b[0m\u001b[0;34m(\u001b[0m\u001b[0mresults\u001b[0m\u001b[0;34m)\u001b[0m\u001b[0;34m)\u001b[0m\u001b[0;34m\u001b[0m\u001b[0;34m\u001b[0m\u001b[0m\n\u001b[0m",
      "\u001b[0;32m~/researchs/graph-propagation/src/result_processing.py\u001b[0m in \u001b[0;36moutput\u001b[0;34m(self, results)\u001b[0m\n\u001b[1;32m     41\u001b[0m             \u001b[0mprint\u001b[0m\u001b[0;34m(\u001b[0m\u001b[0mself\u001b[0m\u001b[0;34m.\u001b[0m\u001b[0m_nxt_proc\u001b[0m\u001b[0;34m.\u001b[0m\u001b[0m__class__\u001b[0m\u001b[0;34m.\u001b[0m\u001b[0m__name__\u001b[0m\u001b[0;34m)\u001b[0m\u001b[0;34m\u001b[0m\u001b[0;34m\u001b[0m\u001b[0m\n\u001b[1;32m     42\u001b[0m             \u001b[0mprint\u001b[0m\u001b[0;34m(\u001b[0m\u001b[0mresults\u001b[0m\u001b[0;34m)\u001b[0m\u001b[0;34m\u001b[0m\u001b[0;34m\u001b[0m\u001b[0m\n\u001b[0;32m---> 43\u001b[0;31m             \u001b[0;32mreturn\u001b[0m \u001b[0mself\u001b[0m\u001b[0;34m.\u001b[0m\u001b[0m_nxt_proc\u001b[0m\u001b[0;34m.\u001b[0m\u001b[0m_output\u001b[0m\u001b[0;34m(\u001b[0m\u001b[0mresults\u001b[0m\u001b[0;34m)\u001b[0m\u001b[0;34m\u001b[0m\u001b[0;34m\u001b[0m\u001b[0m\n\u001b[0m\u001b[1;32m     44\u001b[0m         \u001b[0;32mreturn\u001b[0m \u001b[0;34m\"\"\u001b[0m\u001b[0;34m\u001b[0m\u001b[0;34m\u001b[0m\u001b[0m\n\u001b[1;32m     45\u001b[0m \u001b[0;34m\u001b[0m\u001b[0m\n",
      "\u001b[0;32m~/researchs/graph-propagation/src/result_processing.py\u001b[0m in \u001b[0;36m_output\u001b[0;34m(self, results)\u001b[0m\n\u001b[1;32m     69\u001b[0m     \u001b[0;32mdef\u001b[0m \u001b[0m_output\u001b[0m\u001b[0;34m(\u001b[0m\u001b[0mself\u001b[0m\u001b[0;34m,\u001b[0m \u001b[0mresults\u001b[0m\u001b[0;34m:\u001b[0m\u001b[0mResults\u001b[0m\u001b[0;34m)\u001b[0m \u001b[0;34m->\u001b[0m \u001b[0mstr\u001b[0m\u001b[0;34m:\u001b[0m\u001b[0;34m\u001b[0m\u001b[0;34m\u001b[0m\u001b[0m\n\u001b[1;32m     70\u001b[0m         \u001b[0mplt\u001b[0m\u001b[0;34m.\u001b[0m\u001b[0mboxplot\u001b[0m\u001b[0;34m(\u001b[0m\u001b[0;34m[\u001b[0m\u001b[0mn\u001b[0m\u001b[0;34m[\u001b[0m\u001b[0;36m1\u001b[0m\u001b[0;34m]\u001b[0m \u001b[0;32mfor\u001b[0m \u001b[0mn\u001b[0m \u001b[0;32min\u001b[0m \u001b[0mresults\u001b[0m\u001b[0;34m.\u001b[0m\u001b[0msorted_nodes\u001b[0m\u001b[0;34m]\u001b[0m\u001b[0;34m)\u001b[0m\u001b[0;34m\u001b[0m\u001b[0;34m\u001b[0m\u001b[0m\n\u001b[0;32m---> 71\u001b[0;31m         \u001b[0;32mreturn\u001b[0m \u001b[0;34m'Ploting\\n'\u001b[0m \u001b[0;34m+\u001b[0m \u001b[0mself\u001b[0m\u001b[0;34m.\u001b[0m\u001b[0moutput\u001b[0m\u001b[0;34m(\u001b[0m\u001b[0mresults\u001b[0m\u001b[0;34m)\u001b[0m\u001b[0;34m\u001b[0m\u001b[0;34m\u001b[0m\u001b[0m\n\u001b[0m\u001b[1;32m     72\u001b[0m \u001b[0;34m\u001b[0m\u001b[0m\n\u001b[1;32m     73\u001b[0m \u001b[0;32mclass\u001b[0m \u001b[0mSpecificNodesDetail\u001b[0m\u001b[0;34m(\u001b[0m\u001b[0m_ResultsProcessingDecorator\u001b[0m\u001b[0;34m)\u001b[0m\u001b[0;34m:\u001b[0m\u001b[0;34m\u001b[0m\u001b[0;34m\u001b[0m\u001b[0m\n",
      "\u001b[0;32m~/researchs/graph-propagation/src/result_processing.py\u001b[0m in \u001b[0;36moutput\u001b[0;34m(self, results)\u001b[0m\n\u001b[1;32m     41\u001b[0m             \u001b[0mprint\u001b[0m\u001b[0;34m(\u001b[0m\u001b[0mself\u001b[0m\u001b[0;34m.\u001b[0m\u001b[0m_nxt_proc\u001b[0m\u001b[0;34m.\u001b[0m\u001b[0m__class__\u001b[0m\u001b[0;34m.\u001b[0m\u001b[0m__name__\u001b[0m\u001b[0;34m)\u001b[0m\u001b[0;34m\u001b[0m\u001b[0;34m\u001b[0m\u001b[0m\n\u001b[1;32m     42\u001b[0m             \u001b[0mprint\u001b[0m\u001b[0;34m(\u001b[0m\u001b[0mresults\u001b[0m\u001b[0;34m)\u001b[0m\u001b[0;34m\u001b[0m\u001b[0;34m\u001b[0m\u001b[0m\n\u001b[0;32m---> 43\u001b[0;31m             \u001b[0;32mreturn\u001b[0m \u001b[0mself\u001b[0m\u001b[0;34m.\u001b[0m\u001b[0m_nxt_proc\u001b[0m\u001b[0;34m.\u001b[0m\u001b[0m_output\u001b[0m\u001b[0;34m(\u001b[0m\u001b[0mresults\u001b[0m\u001b[0;34m)\u001b[0m\u001b[0;34m\u001b[0m\u001b[0;34m\u001b[0m\u001b[0m\n\u001b[0m\u001b[1;32m     44\u001b[0m         \u001b[0;32mreturn\u001b[0m \u001b[0;34m\"\"\u001b[0m\u001b[0;34m\u001b[0m\u001b[0;34m\u001b[0m\u001b[0m\n\u001b[1;32m     45\u001b[0m \u001b[0;34m\u001b[0m\u001b[0m\n",
      "\u001b[0;31mTypeError\u001b[0m: _output() missing 1 required positional argument: 'results'"
     ]
    },
    {
     "data": {
      "image/png": "[encoded data removed]",
      "text/plain": [
       "<Figure size 432x288 with 1 Axes>"
      ]
     },
     "metadata": {
      "needs_background": "light"
     },
     "output_type": "display_data"
    }
   ],
   "source": [
    "from src.graph import InputGraph, Graph\n",
    "from src.propagation_state import NodesInKnowledgePropagation\n",
    "from src.result_processing import ResultsProcessingFactory, PlotNodesBoxPlot, MinKnowledgeNode\n",
    "\n",
    "input_graph    = InputGraph(_from=\"smallworld2.csv\", name=\"Small world\")\n",
    "graph          = Graph(input_graph)\n",
    "steps, results = graph.propagate(NodesInKnowledgePropagation(input_graph.nodes), 4)\n",
    "\n",
    "results.specific_nodes = ['p19']\n",
    "\n",
    "proc = PlotNodesBoxPlot()\n",
    "\n",
    "proc = ResultsProcessingFactory.add_proccessing(\n",
    "    ResultsProcessingFactory.MIN_KNOWLEDGE,\n",
    "    ResultsProcessingFactory.MAX_KNOWLEDGE,\n",
    "    ResultsProcessingFactory.NODES_DETAILS,\n",
    "    ResultsProcessingFactory.BOXPLOT,\n",
    ")\n",
    "\n",
    "print(steps)\n",
    "print(proc.output(results))"
   ]
  },
  {
   "cell_type": "code",
   "execution_count": null,
   "metadata": {},
   "outputs": [
    {
     "data": {
      "text/plain": [
       "'Ploting\\nThe less knowledge node is p19 with 41\\nThe more knowledge node is p21 with 98\\nSpecific Nodes Details\\n  p19|         41\\nPloting\\nRESULTS'"
      ]
     },
     "execution_count": 2,
     "metadata": {},
     "output_type": "execute_result"
    },
    {
     "data": {
      "image/png": "[encoded data removed]",
      "text/plain": [
       "<Figure size 432x288 with 1 Axes>"
      ]
     },
     "metadata": {
      "needs_background": "light"
     },
     "output_type": "display_data"
    }
   ],
   "source": [
    "from src.result_processing import PlotNodesHist\n",
    "\n",
    "PlotNodesHist(proc).output()"
   ]
  },
  {
   "cell_type": "code",
   "execution_count": null,
   "metadata": {},
   "outputs": [
    {
     "data": {
      "text/plain": [
       "[('p19', 41),\n",
       " ('p10', 54),\n",
       " ('p1', 55),\n",
       " ('p82', 56),\n",
       " ('p94', 57),\n",
       " ('p74', 59),\n",
       " ('p99', 63),\n",
       " ('p89', 64),\n",
       " ('p85', 64),\n",
       " ('p22', 65),\n",
       " ('p36', 65),\n",
       " ('p4', 67),\n",
       " ('p33', 68),\n",
       " ('p35', 70),\n",
       " ('p41', 71),\n",
       " ('p83', 71),\n",
       " ('p46', 72),\n",
       " ('p76', 72),\n",
       " ('p87', 72),\n",
       " ('p64', 74),\n",
       " ('p23', 74),\n",
       " ('p49', 74),\n",
       " ('p66', 74),\n",
       " ('p31', 75),\n",
       " ('p59', 76),\n",
       " ('p42', 77),\n",
       " ('p28', 79),\n",
       " ('p7', 79),\n",
       " ('p39', 79),\n",
       " ('p65', 79),\n",
       " ('p86', 80),\n",
       " ('p84', 81),\n",
       " ('p79', 81),\n",
       " ('p0', 81),\n",
       " ('p61', 81),\n",
       " ('p80', 82),\n",
       " ('p14', 82),\n",
       " ('p62', 83),\n",
       " ('p92', 83),\n",
       " ('p15', 83),\n",
       " ('p3', 83),\n",
       " ('p78', 84),\n",
       " ('p25', 84),\n",
       " ('p55', 84),\n",
       " ('p90', 84),\n",
       " ('p52', 84),\n",
       " ('p63', 84),\n",
       " ('p37', 84),\n",
       " ('p96', 85),\n",
       " ('p50', 85),\n",
       " ('p6', 85),\n",
       " ('p40', 85),\n",
       " ('p9', 85),\n",
       " ('p53', 86),\n",
       " ('p95', 86),\n",
       " ('p34', 86),\n",
       " ('p24', 87),\n",
       " ('p60', 87),\n",
       " ('p2', 87),\n",
       " ('p32', 87),\n",
       " ('p43', 87),\n",
       " ('p12', 87),\n",
       " ('p17', 87),\n",
       " ('p11', 87),\n",
       " ('p67', 87),\n",
       " ('p72', 88),\n",
       " ('p26', 88),\n",
       " ('p91', 88),\n",
       " ('p71', 88),\n",
       " ('p68', 88),\n",
       " ('p54', 88),\n",
       " ('p16', 89),\n",
       " ('p27', 89),\n",
       " ('p18', 89),\n",
       " ('p70', 89),\n",
       " ('p48', 89),\n",
       " ('p73', 89),\n",
       " ('p38', 90),\n",
       " ('p56', 90),\n",
       " ('p77', 90),\n",
       " ('p57', 90),\n",
       " ('p20', 90),\n",
       " ('p45', 90),\n",
       " ('p29', 90),\n",
       " ('p98', 91),\n",
       " ('p5', 91),\n",
       " ('p81', 91),\n",
       " ('p93', 91),\n",
       " ('p30', 91),\n",
       " ('p13', 92),\n",
       " ('p97', 92),\n",
       " ('p44', 92),\n",
       " ('p51', 94),\n",
       " ('p8', 94),\n",
       " ('p69', 94),\n",
       " ('p75', 94),\n",
       " ('p88', 94),\n",
       " ('p58', 95),\n",
       " ('p47', 96),\n",
       " ('p21', 98)]"
      ]
     },
     "execution_count": 3,
     "metadata": {},
     "output_type": "execute_result"
    }
   ],
   "source": [
    "proc._nodes_state"
   ]
  },
  {
   "cell_type": "code",
   "execution_count": null,
   "metadata": {},
   "outputs": [],
   "source": []
  },
  {
   "cell_type": "code",
   "execution_count": null,
   "metadata": {},
   "outputs": [],
   "source": []
  },
  {
   "cell_type": "code",
   "execution_count": null,
   "metadata": {},
   "outputs": [],
   "source": []
  }
 ],
 "metadata": {
  "interpreter": {
   "hash": "916dbcbb3f70747c44a77c7bcd40155683ae19c65e1c03b4aa3499c5328201f1"
  },
  "kernelspec": {
   "display_name": "Python 3.8.10 64-bit",
   "name": "python3"
  },
  "language_info": {
   "codemirror_mode": {
    "name": "ipython",
    "version": 3
   },
   "file_extension": ".py",
   "mimetype": "text/x-python",
   "name": "python",
   "nbconvert_exporter": "python",
   "pygments_lexer": "ipython3",
   "version": "3.8.10"
  },
  "orig_nbformat": 4
 },
 "nbformat": 4,
 "nbformat_minor": 2
}
